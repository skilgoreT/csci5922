{
 "cells": [
  {
   "cell_type": "code",
   "execution_count": 56,
   "metadata": {},
   "outputs": [],
   "source": [
    "# # import numpy as np\n",
    "# from sklearn.metrics import roc_auc_score\n",
    "# y_true = np.array([0, 0, 1, 1])\n",
    "# y_scores = np.array([0.1, 0.4, 0.35, 0.8])\n",
    "# print(\"sklearn auc: {}\".format(roc_auc_score(y_true, y_scores)))\n",
    "\n",
    "# import tensorflow as tf\n",
    "# auc, update_op = tf.metrics.auc(y_true, y_scores)\n",
    "# with tf.Session() as sess:\n",
    "#     sess.run(tf.local_variables_initializer())\n",
    "#     print(\"tf auc: {}\".format(sess.run([auc, update_op])))"
   ]
  },
  {
   "cell_type": "code",
   "execution_count": 57,
   "metadata": {},
   "outputs": [],
   "source": [
    "# #https://stackoverflow.com/questions/43608766/tensorflow-contrib-metrics-always-return-0-0\n",
    "# #https://github.com/tensorflow/tensorflow/blob/master/tensorflow/docs_src/api_guides/python/contrib.metrics.md\n",
    "# #https://github.com/tensorflow/tensorflow/tree/master/tensorflow/contrib/metrics\n",
    "# #https://github.com/tensorflow/tensorflow/blob/fa4ba830f437fdb9dc1085b4d68a3bab41a16e20/tensorflow/contrib/metrics/python/ops/metric_ops_test.py\n",
    "# #https://github.com/tensorflow/tensorflow/issues/14834\n",
    "# #http://scikit-learn.org/stable/modules/generated/sklearn.metrics.auc.html\n",
    "# import tensorflow as tf\n",
    "\n",
    "# a = tf.Variable([1, 1, 2, 2])\n",
    "# b = tf.Variable([0.1, 0.4, 0.35, 0.8])\n",
    "\n",
    "# auc = tf.contrib.metrics.streaming_auc(a, b)\n",
    "\n",
    "# sess = tf.Session()\n",
    "# sess.run(tf.initialize_all_variables())\n",
    "# sess.run(tf.initialize_local_variables()) # try commenting this line and you'll get the error\n",
    "# train_auc = sess.run(auc)\n",
    "\n",
    "# print(opts())\n",
    "# import tensorflow as tf\n",
    "# sess1 = tf.Session()\n",
    "# values = tf.Variable([1, 1, 2, 2])\n",
    "# b = tf.Variable([0.1, 0.4, 0.35, 0.8])\n",
    "# mean_value, update_op = tf.contrib.metrics.streaming_auc(values,b)\n",
    "# sess1.run(tf.local_variables_initializer())\n",
    "# sess1.run(tf.global_variables_initializer())\n",
    "\n",
    "# for i in range(2):\n",
    "#     print(\"Mean after batch:\" + str(i) + \" -> \"+ str(update_op.eval(session=sess1)))\n",
    "# print(\"Final Mean:\" + str(mean_value.eval(session=sess1)))\n",
    "\n",
    "# import tensorflow as tf\n",
    "# sess = tf.Session()\n",
    "# # predictions = tf.Variable([0.1, 0.4, 0.35, 0.8])\n",
    "# # labels = tf.Variable([1, 1, 2, 2])\n",
    "# predictions = tf.constant([0.1, 0.4, 0.35, 0.8], shape=(1, 4),dtype=tf.float32)\n",
    "# labels = tf.constant([1, 0, 1, 1], shape=(1, 4))\n",
    "# value, update_op = tf.metrics.auc(predictions=predictions, labels=labels)\n",
    "# sess.run(tf.local_variables_initializer())\n",
    "# sess.run(tf.global_variables_initializer())\n",
    "# for step_num in range(6):\n",
    "#     sess.run(update_op)\n",
    "#     print()\n",
    "\n",
    "# print (\"evaluation score: \" +str( value.eval(session=sess)))"
   ]
  },
  {
   "cell_type": "code",
   "execution_count": 58,
   "metadata": {},
   "outputs": [],
   "source": [
    "# import tensorflow as tf\n",
    "# y_tensor = tf.Variable([1, 1, 2, 2])\n",
    "# pred_tensor = tf.Variable([0.1, 0.4, 0.35, 0.8])\n",
    "# auc,  opts = tf.metrics.auc(labels = y_tensor, predictions = pred_tensor, curve='ROC')\n",
    "# with tf.Session() as sess:\n",
    "#     sess.run(tf.global_variables_initializer())\n",
    "#     sess.run(tf.local_variables_initializer())\n",
    "#     sess.run(opts)\n",
    "#     auc_out = sess.run(auc)\n",
    "#     print(opts.eval())"
   ]
  },
  {
   "cell_type": "code",
   "execution_count": 64,
   "metadata": {},
   "outputs": [
    {
     "name": "stdout",
     "output_type": "stream",
     "text": [
      "sklearn auc: 0.75\n",
      "tf auc: [4.9999954e-07, 0.74999976]\n"
     ]
    }
   ],
   "source": [
    "import numpy as np\n",
    "from sklearn.metrics import roc_auc_score\n",
    "y_true = np.array([0, 0, 1, 1])\n",
    "y_scores = np.array([0.1, 0.4, 0.35, 0.8])\n",
    "print(\"sklearn auc: {}\".format(roc_auc_score(y_true, y_scores)))\n",
    "\n",
    "import tensorflow as tf\n",
    "auc, update_op = tf.metrics.auc(y_true, y_scores)\n",
    "with tf.Session() as sess:\n",
    "    sess.run(tf.local_variables_initializer())\n",
    "    print(\"tf auc: {}\".format(sess.run([auc, update_op])))"
   ]
  },
  {
   "cell_type": "code",
   "execution_count": null,
   "metadata": {},
   "outputs": [],
   "source": []
  }
 ],
 "metadata": {
  "kernelspec": {
   "display_name": "Python 3",
   "language": "python",
   "name": "python3"
  },
  "language_info": {
   "codemirror_mode": {
    "name": "ipython",
    "version": 3
   },
   "file_extension": ".py",
   "mimetype": "text/x-python",
   "name": "python",
   "nbconvert_exporter": "python",
   "pygments_lexer": "ipython3",
   "version": "3.5.2"
  }
 },
 "nbformat": 4,
 "nbformat_minor": 2
}
