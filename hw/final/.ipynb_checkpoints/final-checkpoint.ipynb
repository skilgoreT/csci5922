{
 "cells": [
  {
   "cell_type": "code",
   "execution_count": null,
   "metadata": {},
   "outputs": [],
   "source": [
    "# %load read_data.py\n",
    "# %load read_data.py\n",
    "import matplotlib.pyplot as plt\n",
    "import pandas as pd\n",
    "import numpy as np\n",
    "from pymongo import MongoClient\n",
    "\n",
    "DB_HOST = '10.0.1.3'\n",
    "DB_NAME = 'wootmathdev'\n",
    "DB_PORT = 27017\n",
    "\n",
    "client = MongoClient(DB_HOST, DB_PORT)\n",
    "db = client[DB_NAME]\n",
    "data = db['anon_student_task_responses'].find({}, {'student.student_id':1}).limit(1000)\n",
    "unique_ids = set([d['student']['student_id'] for d in data])\n",
    "\n",
    "student_vectors = []\n",
    "for id in unique_ids:\n",
    "  # all the entries associated with a specific student\n",
    "  data = db['anon_student_task_responses'].find({'student.student_id':id})\n",
    "  responses = {}\n",
    "  for d in data:\n",
    "    responses[d['qual_id']] = { 'correct':d['correct'], 'ts':d['t'] }\n",
    "\n",
    "  student_vectors.append(pd.DataFrame(responses))\n",
    "\n",
    "# The series index is the unique student id, series elements are DataFrames with cols indexed by qual_id\n",
    "student_vectors = pd.Series(student_vectors, index=unique_ids)\n",
    "student_vectors[0].head()\n"
   ]
  },
  {
   "cell_type": "code",
   "execution_count": 29,
   "metadata": {},
   "outputs": [
    {
     "data": {
      "text/plain": [
       "U8T3K5I3A7            096-5s8eJ6.partb.0p9xDPJH1A 096-5s8eJ6...\n",
       "17Q1H4T7              1zsCldT4p8.set1.EFxoqDuPL- 1zsCldT4p8....\n",
       "8W4E7E3O4             IRaIcmaWjs.partb.1JKfI4cKj9 IRaIcmaWjs...\n",
       "3U8S3V4L7             1zsCldT4p8.set1.EFxoqDuPL- 1zsCldT4p8....\n",
       "X8T7Q6K3T7            096-5s8eJ6.partb.7s728JWh9K 096-5s8eJ6...\n",
       "dtype: object"
      ]
     },
     "execution_count": 29,
     "metadata": {},
     "output_type": "execute_result"
    }
   ],
   "source": [
    "student_vectors.head()"
   ]
  },
  {
   "cell_type": "code",
   "execution_count": null,
   "metadata": {
    "collapsed": true
   },
   "outputs": [],
   "source": []
  }
 ],
 "metadata": {
  "kernelspec": {
   "display_name": "Python 3",
   "language": "python",
   "name": "python3"
  },
  "language_info": {
   "codemirror_mode": {
    "name": "ipython",
    "version": 3
   },
   "file_extension": ".py",
   "mimetype": "text/x-python",
   "name": "python",
   "nbconvert_exporter": "python",
   "pygments_lexer": "ipython3",
   "version": "3.6.1"
  }
 },
 "nbformat": 4,
 "nbformat_minor": 2
}
