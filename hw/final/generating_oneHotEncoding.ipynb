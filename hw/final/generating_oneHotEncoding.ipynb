{
 "cells": [
  {
   "cell_type": "code",
   "execution_count": 95,
   "metadata": {},
   "outputs": [],
   "source": [
    "#import packages\n",
    "import json\n",
    "from sklearn.preprocessing import MultiLabelBinarizer\n",
    "import numpy as np"
   ]
  },
  {
   "cell_type": "code",
   "execution_count": 96,
   "metadata": {},
   "outputs": [
    {
     "name": "stdout",
     "output_type": "stream",
     "text": [
      "{'correct': True, 'untouched': False, 'ccssm': 'CCSS.Math.3.NF.A.1', 'task_id': 'p7cfRPp-kQ.partb', 'time_spent': 17479, 'ts': 1474220695443.0, 'second_try': False, 'qual_id': 'p7cfRPp-kQ.partb.XYSufJsVhH'}\n"
     ]
    }
   ],
   "source": [
    "#loading JSON file into dictionary\n",
    "filepath = \"student_vectors_n_task_10_n_limit_10000.json\"\n",
    "student_vectors = json.load(open(filepath))\n",
    "print(student_vectors['H9D8E4S2B8'][0])"
   ]
  },
  {
   "cell_type": "code",
   "execution_count": 108,
   "metadata": {},
   "outputs": [
    {
     "name": "stdout",
     "output_type": "stream",
     "text": [
      "['CCSS.Math.3.NF.A.3d', 'CCSS.Math.3.NF.A.1', 'CCSS.Math.4.NF.B.3c', 'CCSS.Math.4.NF.B.3a']\n",
      "Number of unique labels in this dataset 4\n",
      "Number of unique lessons/tasks in this dataset 10\n",
      "Number of unique questions in this dataset 612\n",
      "[0 0 0 0 0 0 0 0 0 0 0 0 0 0 0 0 0 0 0 0 0 0 0 0 0 0 0 0 0 0 0 0 0 0 0 0 0\n",
      " 0 0 0 0 0 0 0 0 0 0 0 0 0 0 0 0 0 0 0 0 0 0 0 0 0 0 0 0 0 0 0 0 0 0 0 0 0\n",
      " 0 0 0 0 0 0 0 0 0 0 0 0 0 0 0 0 0 0 0 0 0 0 0 0 0 0 0 0 0 0 0 0 0 0 0 0 0\n",
      " 0 0 0 0 0 0 0 0 0 0 0 0 0 0 0 0 0 0 0 0 0 0 0 0 0 0 0 0 0 0 0 0 0 0 0 0 0\n",
      " 0 0 0 0 0 0 0 0 0 0 0 0 0 0 0 0 0 0 0 0 0 0 0 0 0 0 0 0 0 0 0 0 0 0 0 0 0\n",
      " 0 0 0 0 0 0 0 0 0 0 0 0 0 0 0 0 0 0 0 0 0 0 0 0 0 0 0 0 0 0 0 0 0 0 0 0 0\n",
      " 0 0 0 0 0 0 0 0 0 0 0 0 0 0 0 0 0 0 0 0 0 0 0 0 0 0 0 0 0 0 0 0 0 0 0 0 0\n",
      " 0 0 0 0 0 0 0 0 0 0 0 0 0 0 0 0 0 0 0 0 0 0 0 0 0 0 0 0 0 0 0 0 0 0 0 0 0\n",
      " 0 0 0 0 0 0 0 0 0 0 0 0 0 0 0 0 0 0 0 0 0 0 0 0 0 0 0 0 0 0 0 0 0 0 0 0 0\n",
      " 0 0 0 0 0 0 0 0 0 0 0 0 0 0 0 0 0 0 0 0 0 0 0 0 0 0 0 0 0 0 0 0 0 0 0 0 0\n",
      " 0 0 0 0 0 0 0 0 0 0 0 0 0 0 0 0 0 0 0 0 0 0 0 0 0 0 0 0 0 0 0 0 0 0 0 0 0\n",
      " 0 0 0 0 0 0 0 0 0 0 0 0 0 0 0 0 0 0 0 0 0 0 0 0 0 0 0 0 0 0 0 0 0 0 0 0 0\n",
      " 0 0 0 0 0 0 0 0 0 0 0 0 0 0 0 0 0 0 0 0 0 0 0 0 0 0 0 0 0 0 0 0 0 0 0 0 0\n",
      " 0 0 0 0 0 0 0 0 0 0 0 0 0 0 0 0 0 0 0 0 0 0 0 0 0 0 0 0 0 0 0 0 0 0 0 0 0\n",
      " 0 0 0 0 0 0 0 0 0 0 0 0 0 0 0 0 0 0 0 0 0 0 0 0 0 0 0 0 0 0 0 0 0 0 0 0 0\n",
      " 0 0 0 0 0 0 0 0 0 0 0 0 0 0 0 0 0 0 0 0 0 0 0 0 0 0 0 0 0 0 0 0 0 0 0 0 1\n",
      " 0 0 0 0 0 0 0 0 0 0 0 0 0 0 0 0 0 0 0 0 1 0 0 0]\n"
     ]
    }
   ],
   "source": [
    "#collect qual_ids, ccssm_labels, task_ids in separate lists\n",
    "qual_ids = []\n",
    "ccssm_labels = []\n",
    "task_ids = []\n",
    "for i in student_vectors:\n",
    "    for j in student_vectors[i]:\n",
    "        qual_ids.append(j['qual_id'])\n",
    "        ccssm_labels.append(j['ccssm'])\n",
    "        task_ids.append(j['task_id'])\n",
    "\n",
    "#make a set of unique values from the above lists\n",
    "unique_ids = set(qual_ids)\n",
    "unique_labels = set(ccssm_labels)\n",
    "unique_tasks = set(task_ids)\n",
    "print(str(list(unique_labels)))\n",
    "print(\"Number of unique labels in this dataset \" + str(len(unique_labels))) #unique labels\n",
    "print(\"Number of unique lessons/tasks in this dataset \"+str(len(unique_tasks))) #unique lessons\n",
    "print(\"Number of unique questions in this dataset \"+str(len(unique_ids))) #this is the length of bit vector (number of unique qual_ids)\n",
    "\n",
    "#generate vectors to give to fit_transform in multilabelbinarizer\n",
    "transform_ids = []\n",
    "for i in qual_ids:\n",
    "    transform_ids.append([i])\n",
    "\n",
    "transform_labels = []\n",
    "for i in ccssm_labels:\n",
    "    transform_labels.append([i])\n",
    "    \n",
    "#generate 1-hot encoding\n",
    "enc = MultiLabelBinarizer()\n",
    "qual_ids_1hot = enc.fit_transform(transform_ids)\n",
    "qual_ids_classes = enc.classes_\n",
    "labels_1hot = enc.fit_transform(transform_labels)\n",
    "labels_classes = enc.classes_\n",
    "#print(len(qual_ids_classes) == len(unique_ids)) #essentially the same thing, with different order and data types\n",
    "\n",
    "#append 1-hot encoding\n",
    "final_encoding = []\n",
    "for i in range(len(qual_ids_1hot)):\n",
    "    temp = np.concatenate((qual_ids_1hot[i], labels_1hot[i]))\n",
    "    #print(str(qual_ids_1hot[i]) + str(labels_1hot[i]))\n",
    "    final_encoding.append(temp)\n",
    "np.savetxt(\"final_encoding\", final_encoding)\n",
    "print(final_encoding[0])"
   ]
  },
  {
   "cell_type": "code",
   "execution_count": null,
   "metadata": {},
   "outputs": [],
   "source": []
  }
 ],
 "metadata": {
  "kernelspec": {
   "display_name": "Python 3",
   "language": "python",
   "name": "python3"
  },
  "language_info": {
   "codemirror_mode": {
    "name": "ipython",
    "version": 3
   },
   "file_extension": ".py",
   "mimetype": "text/x-python",
   "name": "python",
   "nbconvert_exporter": "python",
   "pygments_lexer": "ipython3",
   "version": "3.5.2"
  }
 },
 "nbformat": 4,
 "nbformat_minor": 2
}
