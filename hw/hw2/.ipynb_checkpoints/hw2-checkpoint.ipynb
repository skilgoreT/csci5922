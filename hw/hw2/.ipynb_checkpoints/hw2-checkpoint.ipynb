{
 "cells": [
  {
   "cell_type": "code",
   "execution_count": 9,
   "metadata": {},
   "outputs": [
    {
     "name": "stdout",
     "output_type": "stream",
     "text": [
      "Overwriting read_data.py\n"
     ]
    }
   ],
   "source": [
    "#%%writefile read_data.py\n",
    "#%load read_data.py\n",
    "import pandas as pd\n",
    "import os\n",
    "def load_data(filename):\n",
    "    csv_path = os.path.join(\".\", filename)\n",
    "    return pd.read_csv(csv_path)\n",
    "\n",
    "room_data = load_data('train_data.txt')\n",
    "room_data.head()"
   ]
  },
  {
   "cell_type": "code",
   "execution_count": 10,
   "metadata": {},
   "outputs": [
    {
     "name": "stdout",
     "output_type": "stream",
     "text": [
      "Overwriting plot_data.py\n"
     ]
    }
   ],
   "source": [
    "#%%writefile plot_data.py\n",
    "#%load plot_data.py\n",
    "%matplotlib inline\n",
    "import matplotlib\n",
    "import matplotlib.pyplot as plt\n",
    "plt.rcParams['axes.labelsize'] = 14\n",
    "plt.rcParams['xtick.labelsize'] = 12\n",
    "plt.rcParams['ytick.labelsize'] = 12\n",
    "room_data.plot(subplots=True, layout=(2,3), figsize=(12, 8));"
   ]
  },
  {
   "cell_type": "code",
   "execution_count": 11,
   "metadata": {},
   "outputs": [
    {
     "name": "stdout",
     "output_type": "stream",
     "text": [
      "Overwriting preprocess_data.py\n"
     ]
    }
   ],
   "source": [
    "#%%writefile preprocess_data.py\n",
    "# %load preprocess_data.py\n",
    "\n",
    "from sklearn import preprocessing\n",
    "from sklearn.base import BaseEstimator, TransformerMixin\n",
    "from sklearn.pipeline import Pipeline\n",
    "from sklearn.preprocessing import StandardScaler\n",
    "import numpy as np\n",
    "import re\n",
    "room_data.describe()\n",
    "\n",
    "#attributes = [attr for attr in list(data) if not re.search(attr, r'date|Occupancy')]\n",
    "# Create a class to select numerical or categorical columns\n",
    "# since Scikit-Learn doesn't handle DataFrames yet\n",
    "class DataFrameSelector(BaseEstimator, TransformerMixin):\n",
    "    def __init__(self, attribute_names):\n",
    "        self.attribute_names = attribute_names\n",
    "    def fit(self, X, y=None):\n",
    "        return self\n",
    "    def transform(self, X):\n",
    "        return X[self.attribute_names].values\n",
    "\n",
    "# list of attributes for the DataFrameSelector (pandas to numpy)\n",
    "room_attrib = [attr for attr in list(room_data) if not re.search(attr, r'date|Occupancy')]\n",
    "pipeline = Pipeline([\n",
    "    ('selector', DataFrameSelector(room_attrib)),\n",
    "    ('std_scaler', StandardScaler()),\n",
    "])\n",
    "\n",
    "room_prepared = pipeline.fit_transform(room_data)\n",
    "print(np.shape(room_prepared))\n",
    "print(room_prepared[0])\n",
    "df = pd.DataFrame(room_prepared)\n",
    "df.plot(subplots=True, layout=(2,3), figsize=(12, 8));"
   ]
  },
  {
   "cell_type": "code",
   "execution_count": 12,
   "metadata": {},
   "outputs": [
    {
     "name": "stdout",
     "output_type": "stream",
     "text": [
      "Overwriting train.py\n"
     ]
    }
   ],
   "source": [
    "#%%writefile train.py\n",
    "# %load train.py\n",
    "import os as os\n",
    "import numpy as np\n",
    "import scipy.io\n",
    "import scipy.optimize as optimization\n",
    "\n",
    "N_EPOCH = 100\n",
    "\n",
    "n_mis = []\n",
    "def dwp(w,d,X):\n",
    "    # using numpy einstein summation to vectorize the computation\n",
    "    # calculating w.x.d -- w.x.d < 0 => incorrect classification\n",
    "    C = d*np.einsum('i,ji->j', w, X) # shape is (100,)\n",
    "    # use enumerate for the equivalent to each_with_index (Ruby)\n",
    "    xd = [ d[i]*X[i] for i,c in enumerate(C) if c <= 0]\n",
    "    # the error is the number of misclassified teachers\n",
    "    E = len(xd)/float(len(d))\n",
    "    # sum xd element-wise\n",
    "    # dw is x.t summed over misclassified teachers\n",
    "    dw =  np.einsum('ij->j',xd) if(len(xd) > 0) else 0\n",
    "    return dw, E\n",
    "\n",
    "def train():\n",
    "    # data\n",
    "    room_with_bias = np.full((len(room_prepared),6),1.0)\n",
    "    room_with_bias[:,1:] = room_prepared\n",
    "    # shape is (nrow, 6)\n",
    "    X = room_with_bias\n",
    "    #print(np.shape(X))\n",
    "    # use domain -1,1 for teachers so we can use x.w.d<0 for the classification test\n",
    "    # shpae is (nrow,1)\n",
    "    t = [z if z == 1 else -1 for z in room_data['Occupancy']]\n",
    "    #print(np.shape(t))\n",
    "    # starting vector of weights\n",
    "    w = np.zeros((np.shape(room_with_bias)[1]))\n",
    "    perf = []\n",
    "    # sweep through the data N_EPOCH times\n",
    "    for _ in range(N_EPOCH):\n",
    "         dw, E = dwp(w,t,X)\n",
    "         w += dw\n",
    "         perf.append(1-E)\n",
    "    return w, perf\n",
    "\n",
    "# invoke main\n",
    "w_trained, performance = train()\n"
   ]
  },
  {
   "cell_type": "code",
   "execution_count": 13,
   "metadata": {},
   "outputs": [
    {
     "name": "stdout",
     "output_type": "stream",
     "text": [
      "Overwriting plot_train_perf.py\n"
     ]
    }
   ],
   "source": [
    "#%%writefile plot_train_perf.py\n",
    "# To plot pretty figures\n",
    "%matplotlib inline\n",
    "import matplotlib\n",
    "import matplotlib.pyplot as plt\n",
    "plt.rcParams['axes.labelsize'] = 14\n",
    "plt.rcParams['xtick.labelsize'] = 12\n",
    "plt.rcParams['ytick.labelsize'] = 12\n",
    "\n",
    "plt.ylabel(r'$\\%\\ Classified$')\n",
    "plt.xlabel('Epoch')\n",
    "plt.title('Training Sample, % Correct vs Epoch')\n",
    "plt.plot(performance)"
   ]
  },
  {
   "cell_type": "code",
   "execution_count": 14,
   "metadata": {},
   "outputs": [
    {
     "name": "stdout",
     "output_type": "stream",
     "text": [
      "Overwriting test.py\n"
     ]
    }
   ],
   "source": [
    "#%%writefile test.py\n",
    "def test(w):\n",
    "    test_data = load_data('test_data.txt')\n",
    "    # same transform pipeline on the test data as the training data\n",
    "    test_prepared = pipeline.fit_transform(test_data)\n",
    "    df = pd.DataFrame(test_prepared)\n",
    "    df.plot(subplots=True, layout=(2,3), figsize=(12, 8));\n",
    "    # add a bias to the prepared test data\n",
    "    test_with_bias = np.full((len(test_prepared),6),1.0)\n",
    "    test_with_bias[:,1:] = test_prepared\n",
    "    # shape is (nrow, 6)\n",
    "    X = test_with_bias\n",
    "    t = [z if z == 1 else -1 for z in test_data['Occupancy']]\n",
    "    # all we care about here is E\n",
    "    _, E = dwp(w, t, X)\n",
    "    print(1-E)\n",
    "\n",
    "test(w_trained)"
   ]
  },
  {
   "cell_type": "code",
   "execution_count": null,
   "metadata": {
    "collapsed": true
   },
   "outputs": [],
   "source": []
  }
 ],
 "metadata": {
  "kernelspec": {
   "display_name": "Python 3",
   "language": "python",
   "name": "python3"
  },
  "language_info": {
   "codemirror_mode": {
    "name": "ipython",
    "version": 3
   },
   "file_extension": ".py",
   "mimetype": "text/x-python",
   "name": "python",
   "nbconvert_exporter": "python",
   "pygments_lexer": "ipython3",
   "version": "3.5.1"
  }
 },
 "nbformat": 4,
 "nbformat_minor": 2
}
