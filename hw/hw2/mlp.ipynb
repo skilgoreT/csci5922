{
 "cells": [
  {
   "cell_type": "code",
   "execution_count": 22,
   "metadata": {},
   "outputs": [
    {
     "name": "stdout",
     "output_type": "stream",
     "text": [
      "[[-0.1583746   0.43928725 -0.16169968 -0.52871137 -0.45175807  0.1142026 ]]\n",
      "(1, 6)\n",
      "[[ 1.  1.  1.  1.  1.  1.]\n",
      " [ 2.  2.  2.  2.  2.  2.]]\n",
      "(2, 6)\n"
     ]
    },
    {
     "data": {
      "text/plain": [
       "array([[-0.74705388, -1.49410775]])"
      ]
     },
     "execution_count": 22,
     "metadata": {},
     "output_type": "execute_result"
    }
   ],
   "source": [
    "import numpy as np\n",
    "\n",
    "W1 = np.random.uniform(size=(1,6), low=-1, high=1)\n",
    "print(W1)\n",
    "print(np.shape(W1))\n",
    "\n",
    "X = np.array([[1.,1.,1.,1.,1.,1.], [2.,2.,2.,2.,2.,2.]])\n",
    "print(X)\n",
    "print(np.shape(X))\n",
    "\n",
    "np.einsum('ij,kj', W1, X)"
   ]
  },
  {
   "cell_type": "code",
   "execution_count": 1,
   "metadata": {},
   "outputs": [
    {
     "name": "stdout",
     "output_type": "stream",
     "text": [
      "Overwriting read_data.py\n"
     ]
    }
   ],
   "source": [
    "%%writefile read_data.py\n",
    "#%load read_data.py\n",
    "import pandas as pd\n",
    "import os\n",
    "def load_data(filename):\n",
    "    csv_path = os.path.join(\".\", filename)\n",
    "    return pd.read_csv(csv_path)\n",
    "\n",
    "room_data = load_data('train_data.txt')\n",
    "room_data.head()"
   ]
  },
  {
   "cell_type": "code",
   "execution_count": 2,
   "metadata": {},
   "outputs": [
    {
     "name": "stdout",
     "output_type": "stream",
     "text": [
      "Overwriting plot_data.py\n"
     ]
    }
   ],
   "source": [
    "#%%writefile plot_data.py\n",
    "#%load plot_data.py\n",
    "%matplotlib inline\n",
    "import matplotlib\n",
    "import matplotlib.pyplot as plt\n",
    "plt.rcParams['axes.labelsize'] = 14\n",
    "plt.rcParams['xtick.labelsize'] = 12\n",
    "plt.rcParams['ytick.labelsize'] = 12\n",
    "room_data.plot(subplots=True, layout=(2,3), figsize=(12, 8));"
   ]
  },
  {
   "cell_type": "code",
   "execution_count": 3,
   "metadata": {},
   "outputs": [
    {
     "name": "stdout",
     "output_type": "stream",
     "text": [
      "Overwriting preprocess_data.py\n"
     ]
    }
   ],
   "source": [
    "#%%writefile preprocess_data.py\n",
    "# %load preprocess_data.py\n",
    "\n",
    "from sklearn import preprocessing\n",
    "from sklearn.base import BaseEstimator, TransformerMixin\n",
    "from sklearn.pipeline import Pipeline\n",
    "from sklearn.preprocessing import StandardScaler\n",
    "import numpy as np\n",
    "import re\n",
    "room_data.describe()\n",
    "\n",
    "#attributes = [attr for attr in list(data) if not re.search(attr, r'date|Occupancy')]\n",
    "# Create a class to select numerical or categorical columns\n",
    "# since Scikit-Learn doesn't handle DataFrames yet\n",
    "class DataFrameSelector(BaseEstimator, TransformerMixin):\n",
    "    def __init__(self, attribute_names):\n",
    "        self.attribute_names = attribute_names\n",
    "    def fit(self, X, y=None):\n",
    "        return self\n",
    "    def transform(self, X):\n",
    "        return X[self.attribute_names].values\n",
    "\n",
    "# list of attributes for the DataFrameSelector (pandas to numpy)\n",
    "room_attrib = [attr for attr in list(room_data) if not re.search(attr, r'date|Occupancy')]\n",
    "pipeline = Pipeline([\n",
    "    ('selector', DataFrameSelector(room_attrib)),\n",
    "    ('std_scaler', StandardScaler()),\n",
    "])\n",
    "\n",
    "room_prepared = pipeline.fit_transform(room_data)\n",
    "print(np.shape(room_prepared))\n",
    "print(room_prepared[0])\n",
    "df = pd.DataFrame(room_prepared)\n",
    "df.plot(subplots=True, layout=(2,3), figsize=(12, 8));"
   ]
  },
  {
   "cell_type": "code",
   "execution_count": 12,
   "metadata": {
    "collapsed": true
   },
   "outputs": [],
   "source": [
    "#%%writefile mlp_train.py\n",
    "# %load mlp_train.py\n",
    "import os as os\n",
    "import numpy as np\n",
    "import scipy.io\n",
    "import scipy.optimize as optimization\n",
    "\n",
    "N_EPOCH = 100\n",
    "\n",
    "def mlp_train(*, n_epoch, minibatch_size):\n",
    "    # data\n",
    "    # room_with_bias = np.full((len(room_prepared),6),1.0)\n",
    "    # room_with_bias[:,1:] = room_prepared\n",
    "    # # shape is (nrow, 6)\n",
    "    # X = room_with_bias\n",
    "    # #print(np.shape(X))\n",
    "    # # use domain -1,1 for teachers so we can use x.w.d<0 for the classification test\n",
    "    # # shpae is (nrow,1)\n",
    "    # t = [z if z == 1 else -1 for z in room_data['Occupancy']]\n",
    "    # #print(np.shape(t))\n",
    "    # # starting vector of weights\n",
    "    # w = np.zeros((np.shape(room_with_bias)[1]))\n",
    "    # perf = []\n",
    "    # # sweep through the data N_EPOCH times\n",
    "    # for _ in range(N_EPOCH):\n",
    "    #      dw, E = dwp(w,t,X)\n",
    "    #      w += dw\n",
    "    #      perf.append(1-E)\n",
    "    # return w, perf\n",
    "    return 'foo', 'bar'\n",
    "# invoke main\n",
    "w_trained, performance = mlp_train(n_epoch=N_EPOCH, minibatch_size=500)"
   ]
  },
  {
   "cell_type": "code",
   "execution_count": 5,
   "metadata": {},
   "outputs": [
    {
     "name": "stdout",
     "output_type": "stream",
     "text": [
      "Overwriting plot_train_perf.py\n"
     ]
    }
   ],
   "source": [
    "#%%writefile plot_train_perf.py\n",
    "# To plot pretty figures\n",
    "%matplotlib inline\n",
    "import matplotlib\n",
    "import matplotlib.pyplot as plt\n",
    "plt.rcParams['axes.labelsize'] = 14\n",
    "plt.rcParams['xtick.labelsize'] = 12\n",
    "plt.rcParams['ytick.labelsize'] = 12\n",
    "\n",
    "plt.ylabel(r'$\\%\\ Classified$')\n",
    "plt.xlabel('Epoch')\n",
    "plt.title('Training Sample, % Correct vs Epoch')\n",
    "plt.plot(performance)"
   ]
  },
  {
   "cell_type": "code",
   "execution_count": 8,
   "metadata": {},
   "outputs": [
    {
     "name": "stdout",
     "output_type": "stream",
     "text": [
      "Writing mlp_test.py\n"
     ]
    }
   ],
   "source": [
    "%%writefile mlp_test.py\n",
    "def mlp_test(w):\n",
    "\n",
    "test(w_trained)"
   ]
  },
  {
   "cell_type": "code",
   "execution_count": null,
   "metadata": {
    "collapsed": true
   },
   "outputs": [],
   "source": []
  }
 ],
 "metadata": {
  "kernelspec": {
   "display_name": "Python 3",
   "language": "python",
   "name": "python3"
  },
  "language_info": {
   "codemirror_mode": {
    "name": "ipython",
    "version": 3
   },
   "file_extension": ".py",
   "mimetype": "text/x-python",
   "name": "python",
   "nbconvert_exporter": "python",
   "pygments_lexer": "ipython3",
   "version": "3.6.1"
  }
 },
 "nbformat": 4,
 "nbformat_minor": 2
}
