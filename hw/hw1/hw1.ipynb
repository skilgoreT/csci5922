{
 "cells": [
  {
   "cell_type": "code",
   "execution_count": null,
   "metadata": {
    "collapsed": true
   },
   "outputs": [],
   "source": [
    "from IPython.core.debugger import set_trace\n",
    "for x in range(0, 3):\n",
    "    set_trace()\n",
    "    print(x)"
   ]
  },
  {
   "cell_type": "markdown",
   "metadata": {},
   "source": [
    "Part 1 -\n",
    "1a) w1 = -2.04427331  w2 = 3.99683416 b = -0.92427055\n",
    "1b) Levenberg–Marquardt as per implementation below"
   ]
  },
  {
   "cell_type": "code",
   "execution_count": 55,
   "metadata": {},
   "outputs": [
    {
     "name": "stdout",
     "output_type": "stream",
     "text": [
      "(100, 2)\n",
      "[-0.92427055 -2.04427331  3.99683416]\n"
     ]
    }
   ],
   "source": [
    "#%%\n",
    "import os\n",
    "import numpy as np\n",
    "import scipy.io\n",
    "import scipy.optimize as optimization\n",
    "#from IPython.core.debugger import set_trace\n",
    "\n",
    "# Data\n",
    "filedir = os.path.dirname(os.path.realpath('__file__'))\n",
    "datapath = os.path.join(filedir,'assign1_data.mat')\n",
    "data = scipy.io.loadmat(datapath)\n",
    "\n",
    "# fitter wants shape (k,M) (k number of predictors)\n",
    "# data['x'] has shape (M,k) so we fix that\n",
    "print(data['x'].shape)\n",
    "x1 = data['x'][:,0]\n",
    "x2 = data['x'][:,1]\n",
    "X = np.array([x1,x2])\n",
    "# argg - shape (100,1) - gives obstuse error in the fitter\n",
    "# we fix that too (flatten)\n",
    "y = np.array(data['y']).flatten()\n",
    "\n",
    "# Initial guess\n",
    "w0 = np.array([1, 1, 1])\n",
    "\n",
    "# Objective function\n",
    "# y = w1 * x1 + w2 * x2 + b.\n",
    "def func(X, b, w1, w2):\n",
    "  # unpack independent vars\n",
    "  rval = w1*X[0] + w2*X[1] + b\n",
    "  return rval\n",
    "\n",
    "result = optimization.curve_fit(func, X, y, w0)\n",
    "print(result[0])"
   ]
  },
  {
   "cell_type": "markdown",
   "metadata": {},
   "source": [
    "Part 2"
   ]
  },
  {
   "cell_type": "code",
   "execution_count": 58,
   "metadata": {},
   "outputs": [
    {
     "name": "stdout",
     "output_type": "stream",
     "text": [
      "[-0.92233149 -2.0427036   3.99155586]\n"
     ]
    }
   ],
   "source": [
    "import os\n",
    "import numpy as np\n",
    "import scipy.io\n",
    "import scipy.optimize as optimization\n",
    "#from IPython.core.debugger import set_trace\n",
    "\n",
    "EPS = 0.001\n",
    "N_EPOCH = 1000\n",
    "def dw(w,d,X):\n",
    "    # using numpy einstein summation to vectorize the computation\n",
    "    # vector of coefficients (d-w.x) for each pattern (alpha)     \n",
    "    C = d - np.einsum('i,ij->j', w, X) # shape is (100,)\n",
    "    # C_i * X_ji or C * transpose(X)\n",
    "    dw = EPS*np.einsum('i,ji->j', C, X) # shape is (3,)\n",
    "    return dw\n",
    "\n",
    "def main():\n",
    "    # data\n",
    "    filedir = os.path.dirname(os.path.realpath('__file__'))\n",
    "    datapath = os.path.join(filedir,'assign1_data.mat')\n",
    "    data = scipy.io.loadmat(datapath)\n",
    "    x1 = data['x'][:,0]\n",
    "    x2 = data['x'][:,1]\n",
    "    # inputs - with bias input tied high, shape is (3,100)\n",
    "    X = np.array([np.full(len(x1),1),x1,x2])\n",
    "    # output\n",
    "    d = np.array(data['y']).flatten()\n",
    "    # starting vector of weights\n",
    "    w = [1,1,1]\n",
    "\n",
    "    for _ in range(N_EPOCH):\n",
    "        w = w + dw(w,d,X)\n",
    "    print(w)\n",
    "\n",
    "# invoke main\n",
    "main()"
   ]
  },
  {
   "cell_type": "code",
   "execution_count": null,
   "metadata": {
    "collapsed": true
   },
   "outputs": [],
   "source": []
  }
 ],
 "metadata": {
  "kernelspec": {
   "display_name": "Python 3",
   "language": "python",
   "name": "python3"
  },
  "language_info": {
   "codemirror_mode": {
    "name": "ipython",
    "version": 3
   },
   "file_extension": ".py",
   "mimetype": "text/x-python",
   "name": "python",
   "nbconvert_exporter": "python",
   "pygments_lexer": "ipython3",
   "version": "3.5.1"
  }
 },
 "nbformat": 4,
 "nbformat_minor": 2
}
