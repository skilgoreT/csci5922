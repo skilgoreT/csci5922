{
 "cells": [
  {
   "cell_type": "code",
   "execution_count": 10,
   "metadata": {},
   "outputs": [
    {
     "name": "stdout",
     "output_type": "stream",
     "text": [
      "Writing drop_from_panda.py\n"
     ]
    }
   ],
   "source": [
    "#%%writefile drop_from_panda.py\n",
    "#%load drop_from_panda.py\n",
    "import pandas as pd\n",
    "import os\n",
    "def load_data(filename):\n",
    "    csv_path = os.path.join(\".\", filename)\n",
    "    return pd.read_csv(csv_path)\n",
    "\n",
    "room_data = load_data('train_data.txt')\n",
    "room_data.head()\n",
    "# Drop colums from dataframe - axis=0 (row), axis=1 (column)\n",
    "room_data = room_data.drop(['date','Occupancy'], axis=1)\n",
    "room_data.describe()"
   ]
  },
  {
   "cell_type": "code",
   "execution_count": null,
   "metadata": {
    "collapsed": true
   },
   "outputs": [],
   "source": []
  }
 ],
 "metadata": {
  "kernelspec": {
   "display_name": "Python 3",
   "language": "python",
   "name": "python3"
  },
  "language_info": {
   "codemirror_mode": {
    "name": "ipython",
    "version": 3
   },
   "file_extension": ".py",
   "mimetype": "text/x-python",
   "name": "python",
   "nbconvert_exporter": "python",
   "pygments_lexer": "ipython3",
   "version": "3.5.1"
  }
 },
 "nbformat": 4,
 "nbformat_minor": 2
}
