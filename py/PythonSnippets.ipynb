{
 "cells": [
  {
   "cell_type": "code",
   "execution_count": 6,
   "metadata": {},
   "outputs": [
    {
     "name": "stdout",
     "output_type": "stream",
     "text": [
      "Overwriting reduce_regex.py\n"
     ]
    }
   ],
   "source": [
    "#%%writefile reduce_regex.py\n",
    "#%readfile reduce_regex.py\n",
    "# This is an example of how to reduce a list with an array comprehension and a regex search\n",
    "import re\n",
    "data = ['yoda', 'luke', 'darth']\n",
    "reduced = [attr for attr in list(data) if not re.search(attr, r'yoda|darth')]\n",
    "print(reduced)"
   ]
  },
  {
   "cell_type": "code",
   "execution_count": null,
   "metadata": {
    "collapsed": true
   },
   "outputs": [],
   "source": []
  }
 ],
 "metadata": {
  "kernelspec": {
   "display_name": "Python 3",
   "language": "python",
   "name": "python3"
  },
  "language_info": {
   "codemirror_mode": {
    "name": "ipython",
    "version": 3
   },
   "file_extension": ".py",
   "mimetype": "text/x-python",
   "name": "python",
   "nbconvert_exporter": "python",
   "pygments_lexer": "ipython3",
   "version": "3.5.1"
  }
 },
 "nbformat": 4,
 "nbformat_minor": 2
}
